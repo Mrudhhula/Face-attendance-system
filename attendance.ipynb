{
 "cells": [
  {
   "cell_type": "code",
   "execution_count": 1,
   "id": "cc7f5cad-dc48-47ec-a73e-462f131131d1",
   "metadata": {},
   "outputs": [],
   "source": [
    "import cv2\n",
    "import numpy as np\n",
    "import face_recognition\n",
    "import os\n",
    "from datetime import datetime"
   ]
  },
  {
   "cell_type": "code",
   "execution_count": 2,
   "id": "d197c3da-5771-4438-a385-8e077b0fca90",
   "metadata": {},
   "outputs": [
    {
     "name": "stdout",
     "output_type": "stream",
     "text": [
      "['Bill Gates', 'Elon Musk', 'Lionel Messi', 'Ratan Tata']\n"
     ]
    }
   ],
   "source": [
    "path='/mlProjects/imageCol/'\n",
    "images = []\n",
    "Names = []\n",
    "imagesList = os.listdir('/mlProjects/imageCol/')\n",
    "\n",
    "for img in imagesList:\n",
    "    curImg = cv2.imread(f'{path}/{img}')\n",
    "    images.append(curImg)\n",
    "    Names.append(os.path.splitext(img)[0])\n",
    "print(Names)\n",
    " "
   ]
  },
  {
   "cell_type": "code",
   "execution_count": 3,
   "id": "485236c8-6735-4993-a255-bc34565b1be5",
   "metadata": {},
   "outputs": [],
   "source": [
    "def findEncodings(images):\n",
    "    encodedFaces = []\n",
    "    for img in images:\n",
    "        img = cv2.cvtColor(img, cv2.COLOR_BGR2RGB)\n",
    "        encode = face_recognition.face_encodings(img)[0]\n",
    "        encodedFaces.append(encode)\n",
    "    return encodedFaces\n",
    "encodeList = findEncodings(images)"
   ]
  },
  {
   "cell_type": "code",
   "execution_count": 4,
   "id": "4d9dc21b-90e5-412f-8482-c014ed7bab64",
   "metadata": {},
   "outputs": [],
   "source": [
    "def markAttendance(name):\n",
    "    with open('/mlProjects/attendancefile.csv','r+') as f:\n",
    "        dataList = f.readlines()\n",
    "        nameList = []\n",
    "        for line in dataList:\n",
    "            atten = line.split(',')\n",
    "            nameList.append(atten[0])\n",
    "        if name not in nameList:\n",
    "            now = datetime.now()\n",
    "            dtString = now.strftime('%H:%M:%S')\n",
    "            f.writelines(f'\\n{name},{dtString}')"
   ]
  },
  {
   "cell_type": "code",
   "execution_count": null,
   "id": "edc3125e-bfd6-47cd-aace-9bfd48b580e8",
   "metadata": {},
   "outputs": [],
   "source": [
    "cap = cv2.VideoCapture(0)\n",
    " \n",
    "while True:\n",
    "    success, img = cap.read()\n",
    "    #img = captureScreen()\n",
    "    imgSmall = cv2.resize(img,(0,0),None,0.25,0.25)\n",
    "    imgSmall = cv2.cvtColor(imgSmall, cv2.COLOR_BGR2RGB)\n",
    "\n",
    "    facesinFrame = face_recognition.face_locations(imgSmall)\n",
    "    encodesinFrame = face_recognition.face_encodings(imgSmall,facesinFrame)\n",
    "\n",
    "    for encodeFace,faceLoc in zip(encodesinFrame,facesinFrame):\n",
    "            matches = face_recognition.compare_faces(encodeList,encodeFace)\n",
    "            faceDis = face_recognition.face_distance(encodeList,encodeFace)\n",
    "           \n",
    "            matchIndex = np.argmin(faceDis)\n",
    "\n",
    "            if matches[matchIndex]:\n",
    "                name = Names[matchIndex].upper()\n",
    "                #print(name)\n",
    "                y1,x2,y2,x1 = faceLoc\n",
    "                y1, x2, y2, x1 = y1*4,x2*4,y2*4,x1*4\n",
    "                cv2.rectangle(img,(x1,y1),(x2,y2),(0,255,0),2)\n",
    "                cv2.rectangle(img,(x1,y2-35),(x2,y2),(0,255,0),cv2.FILLED)\n",
    "                cv2.putText(img,name,(x1+6,y2-6),cv2.FONT_HERSHEY_COMPLEX,1,(255,255,255),2)\n",
    "                markAttendance(name)\n",
    "\n",
    "    cv2.imshow('Webcam',img)\n",
    "    cv2.waitKey(0)"
   ]
  },
  {
   "cell_type": "code",
   "execution_count": null,
   "id": "2436206b-a446-4730-b63b-266ce2013b8c",
   "metadata": {},
   "outputs": [],
   "source": []
  },
  {
   "cell_type": "code",
   "execution_count": null,
   "id": "b716faa6-9fcb-419c-a5f6-c5b90301b9b1",
   "metadata": {},
   "outputs": [],
   "source": []
  }
 ],
 "metadata": {
  "kernelspec": {
   "display_name": "Python 3 (ipykernel)",
   "language": "python",
   "name": "python3"
  },
  "language_info": {
   "codemirror_mode": {
    "name": "ipython",
    "version": 3
   },
   "file_extension": ".py",
   "mimetype": "text/x-python",
   "name": "python",
   "nbconvert_exporter": "python",
   "pygments_lexer": "ipython3",
   "version": "3.9.12"
  }
 },
 "nbformat": 4,
 "nbformat_minor": 5
}
